{
 "cells": [
  {
   "cell_type": "markdown",
   "id": "4c3befae",
   "metadata": {},
   "source": [
    "# Project 1: Assembling Genes"
   ]
  },
  {
   "cell_type": "markdown",
   "id": "f98e2125",
   "metadata": {},
   "source": [
    "   <div class=\"alert alert-block alert-danger\">\n",
    "    <center>Due: <b>Monday, September 5, 8:59pm</b>.</center> \n",
    "   </div>\n",
    "   \n",
    "   <div class=\"alert alert-block alert-warning\">\n",
    "   <center>\n",
    "       <b>Collaboration and Resource Policy</b>\n",
    "    </center>\n",
    "    \n",
    "For this assignment, you are encouraged to work with one other person satisfying the constraints from Class 2. \n",
    "You are permitted (actually _encouraged_) to discuss these problems with anyone you want, including other students in the class. If you do discuss the specific questions in the assignment with anyone other than your assignment partner and the course staff, though, you should list them in the _External resources used_ section below.\n",
    "    \n",
    "You are welcome to use any resources you want for this assignment, other than ones that would defeat the purpose of the assignment. This means you should not look at answers or code from previous semesters of this course, or from any other students in the class (other than your collaboration with your partner), and if you find code that implements the problem you are being asked to do for the assignment, you should not use that code. You should document all external resource you use that are not part of the course materials in the _External resources used_ section below.\n",
    "    </div>"
   ]
  },
  {
   "cell_type": "markdown",
   "id": "b149549a",
   "metadata": {},
   "source": [
    "**Team submitting this assignment:**  \n",
    "<div class=\"alert alert-success\">\n",
    "    <b><em>list each member of your team here, including both your name and UVA computing id</em></b>\n",
    "\n",
    "Team Members (Names):  \n",
    "\n",
    "Team Member UVA Computing IDs:\n",
    "\n",
    "</div>\n",
    "\n",
    "**External resources used:** \n",
    "<div class=\"alert alert-success\">\n",
    "<em>It is not necessary to list the course materials, but if you used any other resources, including discussing problems with students not on your team, list them here.</em>\n",
    "    \n",
    "External Resources Used:\n",
    "\n",
    "</div>"
   ]
  },
  {
   "cell_type": "markdown",
   "id": "dc10576d",
   "metadata": {},
   "source": [
    "In this project, we will explore genome assembly—the process of determining the order of nucleotides in DNA from fragmented reads. As you might have studied in the reading assignments, genome assembly can get quite complicated, as problems such as full sequence coverage, finding a good length for reads (the $k$ in $k$-mer), and sequencing errors present challenges for sequencing analysis and accuracy. You can assume perfect coverage for all parts of the assignment and no read errors for the first two questions.\n",
    "\n",
    "\n",
    "<b>Submission</b>: Please submit the code you wrote to generate your answers for all parts using this form: <a href=\"https://forms.gle/rNTXfYojTLEQ8idg6\"><em>https://forms.gle/rNTXfYojTLEQ8idg6</em></a>. Your answers should be in the Jupyter Notebook, along with your code. Before submission, you should make a copy of your notebook file with the name <i>uvaid1\\_uvaid2.ipynb</i> (where <i>uvaidn</i> is each teammates UVA id) so the submitted file identifies you. You and your partner should submit a single file once together. Submission is due 8:59 pm (EST) on Monday, September 5."
   ]
  },
  {
   "cell_type": "markdown",
   "id": "d64f29ed",
   "metadata": {},
   "source": [
    "## Install basic required packages."
   ]
  },
  {
   "cell_type": "markdown",
   "id": "0d00d3f2",
   "metadata": {},
   "source": [
    "- Install basic required packages, should be run only once. You may need to restart the kernel after this stage.\n",
    "- Make sure you have [graphviz](https://graphviz.org/download/) installed on your system.\n",
    "- The second cell adds Graphviz to your path, you may have to change based on where the install folder is.\n",
    "\n",
    "<b>NOTE: We provide utils.py, which may contain helpful functions for you to use, as well as gvmagic.py, which is a deprecated package to use graphviz within the notebook</b>"
   ]
  },
  {
   "cell_type": "code",
   "execution_count": null,
   "id": "47d490f5",
   "metadata": {},
   "outputs": [],
   "source": [
    "%pip install -r requirements.txt"
   ]
  },
  {
   "cell_type": "code",
   "execution_count": 1,
   "id": "4bbc8cb8",
   "metadata": {},
   "outputs": [],
   "source": [
    "import os\n",
    "os.environ[\"PATH\"] += os.pathsep + 'C:/Program Files/Graphviz/bin'"
   ]
  },
  {
   "cell_type": "markdown",
   "id": "031e1f5a",
   "metadata": {},
   "source": [
    "## Genome Assembly\n",
    "\n",
    "For this part, you're given reads generated while trying to sequence the DNA of a TeleTubby (some unknown organism) with a \\textit{very} small genetic code. By answering the following questions, you will learn how to assemble the original genome sequence from sequence reads.\n",
    "\n",
    "Sequencing data is often stored in FASTQ file format. In TeleTubby.fastq, you will find the data organized in a particular order that repeats every four lines. The first line contains the metadata that encodes the name of the read, the experiment type, the kind of sequencing machine used, etc. The second line is the sequence of bases. The third line functions as a placeholder line. The fourth line is a sequence of base qualities that encode the qualities for the corresponding bases in the sequence line. We will only work with the sequence and quality score lines in this question."
   ]
  },
  {
   "cell_type": "code",
   "execution_count": 2,
   "id": "16dd096f",
   "metadata": {},
   "outputs": [],
   "source": [
    "import collections\n",
    "import matplotlib.pyplot as plt\n",
    "import numpy as np\n",
    "import utils\n",
    "from tqdm import tqdm"
   ]
  },
  {
   "cell_type": "markdown",
   "id": "cdb93d49",
   "metadata": {},
   "source": [
    "#### Question 1.1.1 GC-content\n",
    "\n",
    "The GC-content (or the ratio of G and C nucleotides) is related to the melting temperature of the DNA double helix. Use the following equation to calculate the melting temperature of DNA for TeleTubby $t_m$ in Celsius:\n",
    "\n",
    "\\begin{equation*}\n",
    "t_m = 64.9+0.41(\\%GC)-\\frac{500}{\\text{length of sequence}}\n",
    "\\end{equation*}\n",
    "\n",
    "As a reference, the human genome is known to have between 35%-60% GC-content. "
   ]
  },
  {
   "cell_type": "code",
   "execution_count": 11,
   "id": "98e17e2b",
   "metadata": {},
   "outputs": [
    {
     "name": "stdout",
     "output_type": "stream",
     "text": [
      "%GC content: 47.95221843003413\n",
      "Temperature in celsius: 64.88329351535837\n"
     ]
    }
   ],
   "source": [
    "# Read sequence reads (error-free) from file\n",
    "sequence_reads, qualities = utils.read_fastq('TeleTubby.fastq')\n",
    "# print(sequence_reads)\n",
    "sequence_len = len(sequence_reads) * 8\n",
    "\n",
    "# Calculate %GC content\n",
    "chars = []\n",
    "for i in range(len(sequence_reads)):\n",
    "    seq = sequence_reads[i]\n",
    "    for j in seq:\n",
    "        chars.append(j)\n",
    "        \n",
    "GC_percent = (chars.count('G') + chars.count('C')) / sequence_len\n",
    "print(\"%GC content:\", GC_percent * 100)\n",
    "\n",
    "# Print out temperature in Celsius\n",
    "\n",
    "temp_c = 64.9 + (0.41 * GC_percent) - (500 / sequence_len)\n",
    "print(\"Temperature in celsius:\", temp_c)"
   ]
  },
  {
   "cell_type": "markdown",
   "id": "14adb12e",
   "metadata": {},
   "source": [
    "#### Question 1.1.2 Interpreting quality scores"
   ]
  },
  {
   "cell_type": "markdown",
   "id": "24c98e15",
   "metadata": {},
   "source": [
    "Phred33 quality scores are represented as the character with an ASCII code equal to its value + 33 (to make them easy to print alongside genome sequences). List the top 5 most frequent scores in ASCII symbol as well as their Phredd33 scores in TeleTubby.fastq. You can refer to the [official Illumina website](https://support.illumina.com/help/BaseSpace_OLH_009008/Content/Source/Informatics/BS/QualityScoreEncoding_swBS.htm) to reference the scoring encoding.\n",
    "\n",
    "What is the average Phred33 score in TeleTubby.fastq?"
   ]
  },
  {
   "cell_type": "code",
   "execution_count": 12,
   "id": "106c8af4",
   "metadata": {},
   "outputs": [
    {
     "name": "stdout",
     "output_type": "stream",
     "text": [
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n"
     ]
    }
   ],
   "source": [
    "# Calculate and print average Phred33 score\n",
    "print(qualities)"
   ]
  },
  {
   "cell_type": "markdown",
   "id": "71fca337",
   "metadata": {},
   "source": [
    "#### Question 1.1.3 Frequency analysis\n",
    "\n",
    "Looking at repetitions in the sequence can be helpful in estimating the \"redudancy\" in the organisms. Humand and other evolved animals have a lot of redundancy, while smaller organisms like bacteria have highly packed genomes. One heuristic to estimate this before actually performing the assembly could be looking at how often certain $k$-mers are repeated.\n",
    "\n",
    "<b>Print out the 3 most frequent k-mers with their frequencies</b>"
   ]
  },
  {
   "cell_type": "code",
   "execution_count": null,
   "id": "ae436ba6",
   "metadata": {},
   "outputs": [],
   "source": [
    "# Find and print out the three most repeated k-mers and their frequencies"
   ]
  },
  {
   "cell_type": "markdown",
   "id": "0213a496",
   "metadata": {},
   "source": [
    "### Question 1.2. Greedy approach"
   ]
  },
  {
   "cell_type": "markdown",
   "id": "4dc055d5",
   "metadata": {},
   "source": [
    "One of the approaches to assemble the genome from the given reads is a greedy algorithm. Have a look at the greedy algorithm described on [Wikipedia](https://en.wikipedia.org/wiki/Sequence_assembly#Greedy_algorithm) and answer the following."
   ]
  },
  {
   "cell_type": "markdown",
   "id": "fbddd3d7",
   "metadata": {},
   "source": [
    "#### Question 1.2.1 What would the runtime be of this algorithm, given $n$ $k$-mer reads?"
   ]
  },
  {
   "cell_type": "markdown",
   "id": "fb26aec0",
   "metadata": {},
   "source": [
    "<i>Answer</i>:"
   ]
  },
  {
   "cell_type": "markdown",
   "id": "c9c6d7d7",
   "metadata": {},
   "source": [
    "#### Question 1.2.2 Would this algorithm always yield a unique solution?"
   ]
  },
  {
   "cell_type": "markdown",
   "id": "528b95a2",
   "metadata": {},
   "source": [
    "<i>Answer</i>:"
   ]
  },
  {
   "cell_type": "markdown",
   "id": "217cb44f",
   "metadata": {},
   "source": [
    "#### Question 1.2.3 Would this algorithm always yield the <i>right</i> solution?"
   ]
  },
  {
   "cell_type": "markdown",
   "id": "62f3cbbb",
   "metadata": {},
   "source": [
    "<i>Answer</i>:"
   ]
  },
  {
   "cell_type": "markdown",
   "id": "b97ed918",
   "metadata": {},
   "source": [
    "### Question 1.3 Graph-based approaches"
   ]
  },
  {
   "cell_type": "markdown",
   "id": "12e8f8a0",
   "metadata": {},
   "source": [
    "Graphs for genome assembly can be constructed in two ways:\n",
    "\n",
    "- de Bruijn graph: Processing $k-$mers as nodes, with $(k-1)-$mers as edges, and\n",
    "- Overlap graph: Processing $k-$mers as edges, with $(k-1)-$mers as nodes.\n",
    "\n",
    "de Bruijn graphs can be processed to find Euler paths, while Overlap graphs can be processed to find Hamiltonian paths. Both of these are valid ways to reconstruct the original genome.\n",
    "\n",
    "<b>Use one of these two techniques to reconstruct the sequence, and print out your reconstructed sequence. Which method did you pick out of the two, and why? (hint: imagine what would happen when we have millions of reads). Use the k-mers provided in TeleTubby.fastq</b>.\n",
    "\n",
    "We provide some skeleton code that you may use, but you may also come up with your own solution."
   ]
  },
  {
   "cell_type": "code",
   "execution_count": null,
   "id": "b0f8979b",
   "metadata": {},
   "outputs": [],
   "source": [
    "# Read reads into graph\n",
    "\n",
    "def build_graph(k_mers):\n",
    "    edges = []\n",
    "    nodes = set()\n",
    "    # Your code here\n",
    "    return nodes, edges\n",
    "\n",
    "nodes, edges = build_graph(sequence_reads)"
   ]
  },
  {
   "cell_type": "code",
   "execution_count": null,
   "id": "4d17dd59",
   "metadata": {},
   "outputs": [],
   "source": [
    "# Implement assembly algorithm"
   ]
  },
  {
   "cell_type": "code",
   "execution_count": null,
   "id": "b345a779",
   "metadata": {},
   "outputs": [],
   "source": [
    "# Print assembled sequence"
   ]
  },
  {
   "cell_type": "code",
   "execution_count": null,
   "id": "1da22daf",
   "metadata": {},
   "outputs": [],
   "source": [
    "# Needed to properly visualize graphs\n",
    "%load_ext gvmagic"
   ]
  },
  {
   "cell_type": "code",
   "execution_count": null,
   "id": "62f3fc16",
   "metadata": {},
   "outputs": [],
   "source": [
    "# Helper function to visualize de Bruijn graphs\n",
    "%dotstr utils.viz_debruijn(nodes_bruijn, edges_bruijn)"
   ]
  },
  {
   "cell_type": "code",
   "execution_count": null,
   "id": "483556bf",
   "metadata": {},
   "outputs": [],
   "source": [
    "# Main assembly algorithm\n",
    "\n",
    "def assemble_sequence(nodes, edges):\n",
    "    assembled_sequence = \"\"\n",
    "    # Your code here\n",
    "    return assembled_sequence"
   ]
  },
  {
   "cell_type": "code",
   "execution_count": null,
   "id": "67acb135",
   "metadata": {},
   "outputs": [],
   "source": [
    "# Output assembled sequence\n",
    "\n",
    "assmebled_seq = assemble_sequence(nodes, edges)"
   ]
  },
  {
   "cell_type": "markdown",
   "id": "fccc1f67",
   "metadata": {},
   "source": [
    "## Question 2 - Sequencing SARS-CoV-2 virus"
   ]
  },
  {
   "cell_type": "markdown",
   "id": "8d40f31b",
   "metadata": {},
   "source": [
    "Let's move on from TeleTubbies to real-world organisms. Let's start small- with a variant of the SARS-CoV-2 virus. You're given reads from <i>actual</i> genome sequencing runs in the SARS-CoV2.fastq file provided.\n",
    "\n",
    "Repeat Question 1.3 on this data. You can re-use your implementation and simply run it on the new data. Print out your reconstructed sequence to a file \"output.txt\". For this part, we will still assume that all the reads are error-free. Set $k=25$."
   ]
  },
  {
   "cell_type": "code",
   "execution_count": null,
   "id": "ab873973",
   "metadata": {},
   "outputs": [],
   "source": [
    "# Read sequence reads\n",
    "sequence_reads_covid, qualities_covid = utils.read_fastq('SARS-CoV2.fastq')"
   ]
  },
  {
   "cell_type": "code",
   "execution_count": null,
   "id": "9f579e5c",
   "metadata": {},
   "outputs": [],
   "source": [
    "# Read reads into graph\n",
    "nodes_covid, edges_covid = build_graph(sequence_reads_covid)"
   ]
  },
  {
   "cell_type": "code",
   "execution_count": null,
   "id": "47d72cc1",
   "metadata": {},
   "outputs": [],
   "source": [
    "# Call main assembly algorithm\n",
    "assmebled_covid_seq = assemble_sequence(nodes_covid, edges_covid)"
   ]
  },
  {
   "cell_type": "code",
   "execution_count": null,
   "id": "a6d0a928",
   "metadata": {},
   "outputs": [],
   "source": [
    "# Write assembled sequence to file\n",
    "\n",
    "assmebled_seq = \"\" # Use your assembled genome\n",
    "with open(\"covid_overlap.txt\", \"w\") as f:\n",
    "    f.write(assmebled_seq)"
   ]
  },
  {
   "cell_type": "markdown",
   "id": "5dbc3916",
   "metadata": {},
   "source": [
    "# Question 3- Error-Aware Assembly (Extra Credit)"
   ]
  },
  {
   "cell_type": "markdown",
   "id": "228fe448",
   "metadata": {},
   "source": [
    "In the parts above, we assumed error-free reads while assembling $k$-mers. As much as we'd like that, actual reads can (and do) have errors, captured by their Phred scores. For this question, you're given raw, actual reads from sequencing runs (download reads here: https://sra-pub-sars-cov2.s3.amazonaws.com/sra-src/SRR11528307/ABS2-LN-R1_cleaned_paired.fastq.gz).  Given these reads and their Phred33 scores, can you assemble the genome?\n",
    "\n",
    "<b>Print out your assembled sequence, along with a brief explanation of how your algorithm works</b>\n",
    "\n",
    "This is an open-ended question. You are free to use any approach to deal with the issue. Make sure you provide your code, along with any assumptions you may have, in the cells below."
   ]
  },
  {
   "cell_type": "code",
   "execution_count": null,
   "id": "bbea667c",
   "metadata": {},
   "outputs": [],
   "source": []
  },
  {
   "cell_type": "code",
   "execution_count": null,
   "id": "8c16adb2",
   "metadata": {},
   "outputs": [],
   "source": []
  }
 ],
 "metadata": {
  "kernelspec": {
   "display_name": "Python 3 (ipykernel)",
   "language": "python",
   "name": "python3"
  },
  "language_info": {
   "codemirror_mode": {
    "name": "ipython",
    "version": 3
   },
   "file_extension": ".py",
   "mimetype": "text/x-python",
   "name": "python",
   "nbconvert_exporter": "python",
   "pygments_lexer": "ipython3",
   "version": "3.9.6"
  }
 },
 "nbformat": 4,
 "nbformat_minor": 5
}
